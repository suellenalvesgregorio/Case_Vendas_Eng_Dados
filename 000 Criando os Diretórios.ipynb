{
 "cells": [
  {
   "cell_type": "markdown",
   "metadata": {
    "application/vnd.databricks.v1+cell": {
     "cellMetadata": {
      "byteLimit": 2048000,
      "rowLimit": 10000
     },
     "inputWidgets": {},
     "nuid": "ebfede79-c229-49ce-95a3-0c147364c191",
     "showTitle": false,
     "tableResultSettingsMap": {},
     "title": ""
    }
   },
   "source": [
    "### 1. Criar os diretórios (DBFS)"
   ]
  },
  {
   "cell_type": "markdown",
   "metadata": {
    "application/vnd.databricks.v1+cell": {
     "cellMetadata": {
      "byteLimit": 2048000,
      "rowLimit": 10000
     },
     "inputWidgets": {},
     "nuid": "644acf70-dfbc-465e-8e2b-e5ca90cc943b",
     "showTitle": false,
     "tableResultSettingsMap": {},
     "title": ""
    }
   },
   "source": [
    "O Databricks File System (DBFS) é o sistema de arquivos nativo do Databricks"
   ]
  },
  {
   "cell_type": "code",
   "execution_count": 0,
   "metadata": {
    "application/vnd.databricks.v1+cell": {
     "cellMetadata": {
      "byteLimit": 2048000,
      "rowLimit": 10000
     },
     "inputWidgets": {},
     "nuid": "45e01a13-df2f-4a87-8937-1ba4bbf05023",
     "showTitle": false,
     "tableResultSettingsMap": {},
     "title": ""
    }
   },
   "outputs": [
    {
     "output_type": "stream",
     "name": "stdout",
     "output_type": "stream",
     "text": [
      "Out[3]: True"
     ]
    }
   ],
   "source": [
    "# Criando uma pasta no Databricks para vínculo\n",
    "# Criando diretórios no DBFS\n",
    "dbutils.fs.mkdirs(\"/mnt/lhdw/landingzone/vendas/processar\")\n",
    "dbutils.fs.mkdirs(\"/mnt/lhdw/landingzone/vendas/processado\")\n",
    "dbutils.fs.mkdirs(\"/mnt/lhdw/bronze\")\n",
    "dbutils.fs.mkdirs(\"/mnt/lhdw/silver\")\n",
    "dbutils.fs.mkdirs(\"/mnt/lhdw/gold\")"
   ]
  },
  {
   "cell_type": "markdown",
   "metadata": {
    "application/vnd.databricks.v1+cell": {
     "cellMetadata": {
      "byteLimit": 2048000,
      "rowLimit": 10000
     },
     "inputWidgets": {},
     "nuid": "9a1622ee-0946-46bf-82bd-5e47ec394c24",
     "showTitle": false,
     "tableResultSettingsMap": {},
     "title": ""
    }
   },
   "source": [
    "###Explicando a Diferença entre criar e montar diretórios\n",
    "#####Criar um Diretório: \n",
    "Criar um diretório → Apenas organiza pastas dentro do DBFS sem conexão externa.\n",
    "\n",
    "#####Montar um Diretório: \n",
    "Montar um diretório → Conecta o DBFS a um armazenamento externo, como por exemplo, Azure Data Lake, Amazon S3 ou Google Cloud Storage, ao DBFS. Permitindo o acesso e manipulação dados externos dentro do Databricks como se fossem arquivos locais.\n",
    "Documentação de apoio\n",
    "\n",
    "https://learn.microsoft.com/pt-br/azure/databricks/files/#work-with-files-in-dbfs-mounts-and-dbfs-root"
   ]
  },
  {
   "cell_type": "markdown",
   "metadata": {
    "application/vnd.databricks.v1+cell": {
     "cellMetadata": {
      "byteLimit": 2048000,
      "rowLimit": 10000
     },
     "inputWidgets": {},
     "nuid": "ac80ab2e-b7fc-4547-b5a2-4221c0cb27ef",
     "showTitle": false,
     "tableResultSettingsMap": {},
     "title": ""
    }
   },
   "source": [
    "###Benefícios do DBFS\n",
    "\n",
    "Facilidade de acesso: Permite trabalhar com dados diretamente dentro de notebooks Databricks.\n",
    "Integração com armazenamento externo: Possibilita montar buckets S3, containers Azure Blob, entre outros.\n",
    "Escalabilidade: Projetado para grandes volumes de dados, ideal para análises avançadas.\n",
    "\n",
    "Com o DBFS, o gerenciamento de arquivos dentro do Databricks se torna mais simples e eficiente.\n"
   ]
  },
  {
   "cell_type": "markdown",
   "metadata": {
    "application/vnd.databricks.v1+cell": {
     "cellMetadata": {
      "byteLimit": 2048000,
      "rowLimit": 10000
     },
     "inputWidgets": {},
     "nuid": "c6fe963a-5b56-4b74-b143-dccdbeb5572c",
     "showTitle": false,
     "tableResultSettingsMap": {},
     "title": ""
    }
   },
   "source": [
    "### Conhecendo os diretórios mnt (DBFS)"
   ]
  },
  {
   "cell_type": "markdown",
   "metadata": {
    "application/vnd.databricks.v1+cell": {
     "cellMetadata": {
      "byteLimit": 2048000,
      "rowLimit": 10000
     },
     "inputWidgets": {},
     "nuid": "98233623-bc6b-42bc-8a86-18180a7e5065",
     "showTitle": false,
     "tableResultSettingsMap": {},
     "title": ""
    }
   },
   "source": [
    "###Estrutura do DBFS\n",
    "\n",
    "O **Databricks File System (DBFS)** segue uma estrutura semelhante a um sistema de arquivos tradicional, permitindo a organização e acesso eficiente aos dados dentro do Databricks.\n",
    "\n",
    "###Diretórios principais:\n",
    "- **`dbfs:/mnt/`** → Área de montagem utilizada para vincular armazenamento externo, como Data Lakes, Azure Blob Storage e Amazon S3.\n",
    "- **`dbfs:/FileStore/`** → Diretório para armazenar arquivos temporários acessíveis dentro do Databricks. Normalmente usado para upload de arquivos, visualizações temporárias e exportação de resultados.\n",
    "- **`dbfs:/user/`** → Diretório privado de cada usuário, onde arquivos específicos podem ser armazenados para uso individual dentro dos notebooks do Databricks.\n",
    "\n",
    "Essa organização facilita o gerenciamento de dados e melhora a eficiência no fluxo de trabalho dentro do Databricks.\n"
   ]
  },
  {
   "cell_type": "code",
   "execution_count": 0,
   "metadata": {
    "application/vnd.databricks.v1+cell": {
     "cellMetadata": {
      "byteLimit": 2048000,
      "rowLimit": 10000
     },
     "inputWidgets": {},
     "nuid": "2bee3974-2f62-4711-8037-276149de827b",
     "showTitle": false,
     "tableResultSettingsMap": {},
     "title": ""
    }
   },
   "outputs": [
    {
     "output_type": "display_data",
     "data": {
      "text/html": [
       "<style scoped>\n",
       "  .table-result-container {\n",
       "    max-height: 300px;\n",
       "    overflow: auto;\n",
       "  }\n",
       "  table, th, td {\n",
       "    border: 1px solid black;\n",
       "    border-collapse: collapse;\n",
       "  }\n",
       "  th, td {\n",
       "    padding: 5px;\n",
       "  }\n",
       "  th {\n",
       "    text-align: left;\n",
       "  }\n",
       "</style><div class='table-result-container'><table class='table-result'><thead style='background-color: white'><tr><th>path</th><th>name</th><th>size</th><th>modificationTime</th></tr></thead><tbody><tr><td>dbfs:/mnt/lhdw/bronze/</td><td>bronze/</td><td>0</td><td>0</td></tr><tr><td>dbfs:/mnt/lhdw/gold/</td><td>gold/</td><td>0</td><td>0</td></tr><tr><td>dbfs:/mnt/lhdw/landingzone/</td><td>landingzone/</td><td>0</td><td>0</td></tr><tr><td>dbfs:/mnt/lhdw/silver/</td><td>silver/</td><td>0</td><td>0</td></tr></tbody></table></div>"
      ]
     },
     "metadata": {
      "application/vnd.databricks.v1+output": {
       "addedWidgets": {},
       "aggData": [],
       "aggError": "",
       "aggOverflow": false,
       "aggSchema": [],
       "aggSeriesLimitReached": false,
       "aggType": "",
       "arguments": {},
       "columnCustomDisplayInfos": {},
       "data": [
        [
         "dbfs:/mnt/lhdw/bronze/",
         "bronze/",
         0,
         0
        ],
        [
         "dbfs:/mnt/lhdw/gold/",
         "gold/",
         0,
         0
        ],
        [
         "dbfs:/mnt/lhdw/landingzone/",
         "landingzone/",
         0,
         0
        ],
        [
         "dbfs:/mnt/lhdw/silver/",
         "silver/",
         0,
         0
        ]
       ],
       "datasetInfos": [],
       "dbfsResultPath": null,
       "isJsonSchema": true,
       "metadata": {
        "isDbfsCommandResult": false
       },
       "overflow": false,
       "plotOptions": {
        "customPlotOptions": {},
        "displayType": "table",
        "pivotAggregation": null,
        "pivotColumns": null,
        "xColumns": null,
        "yColumns": null
       },
       "removedWidgets": [],
       "schema": [
        {
         "metadata": "{}",
         "name": "path",
         "type": "\"string\""
        },
        {
         "metadata": "{}",
         "name": "name",
         "type": "\"string\""
        },
        {
         "metadata": "{}",
         "name": "size",
         "type": "\"long\""
        },
        {
         "metadata": "{}",
         "name": "modificationTime",
         "type": "\"long\""
        }
       ],
       "type": "table"
      }
     },
     "output_type": "display_data"
    }
   ],
   "source": [
    "%fs ls /mnt/lhdw/"
   ]
  },
  {
   "cell_type": "markdown",
   "metadata": {
    "application/vnd.databricks.v1+cell": {
     "cellMetadata": {
      "byteLimit": 2048000,
      "rowLimit": 10000
     },
     "inputWidgets": {},
     "nuid": "4cc03bb9-8f42-485d-bee8-9ba5be715626",
     "showTitle": false,
     "tableResultSettingsMap": {},
     "title": ""
    }
   },
   "source": [
    "### Conhecendo os diretórios mnt/lhdw/landingzone (DBFS)"
   ]
  },
  {
   "cell_type": "code",
   "execution_count": 0,
   "metadata": {
    "application/vnd.databricks.v1+cell": {
     "cellMetadata": {
      "byteLimit": 2048000,
      "rowLimit": 10000
     },
     "inputWidgets": {},
     "nuid": "9bd2743a-2a36-4080-a131-db71e2628ddb",
     "showTitle": false,
     "tableResultSettingsMap": {},
     "title": ""
    }
   },
   "outputs": [
    {
     "output_type": "display_data",
     "data": {
      "text/html": [
       "<style scoped>\n",
       "  .table-result-container {\n",
       "    max-height: 300px;\n",
       "    overflow: auto;\n",
       "  }\n",
       "  table, th, td {\n",
       "    border: 1px solid black;\n",
       "    border-collapse: collapse;\n",
       "  }\n",
       "  th, td {\n",
       "    padding: 5px;\n",
       "  }\n",
       "  th {\n",
       "    text-align: left;\n",
       "  }\n",
       "</style><div class='table-result-container'><table class='table-result'><thead style='background-color: white'><tr><th>path</th><th>name</th><th>size</th><th>modificationTime</th></tr></thead><tbody><tr><td>dbfs:/mnt/lhdw/landingzone/vendas/processado/</td><td>processado/</td><td>0</td><td>0</td></tr><tr><td>dbfs:/mnt/lhdw/landingzone/vendas/processar/</td><td>processar/</td><td>0</td><td>0</td></tr></tbody></table></div>"
      ]
     },
     "metadata": {
      "application/vnd.databricks.v1+output": {
       "addedWidgets": {},
       "aggData": [],
       "aggError": "",
       "aggOverflow": false,
       "aggSchema": [],
       "aggSeriesLimitReached": false,
       "aggType": "",
       "arguments": {},
       "columnCustomDisplayInfos": {},
       "data": [
        [
         "dbfs:/mnt/lhdw/landingzone/vendas/processado/",
         "processado/",
         0,
         0
        ],
        [
         "dbfs:/mnt/lhdw/landingzone/vendas/processar/",
         "processar/",
         0,
         0
        ]
       ],
       "datasetInfos": [],
       "dbfsResultPath": null,
       "isJsonSchema": true,
       "metadata": {
        "isDbfsCommandResult": false
       },
       "overflow": false,
       "plotOptions": {
        "customPlotOptions": {},
        "displayType": "table",
        "pivotAggregation": null,
        "pivotColumns": null,
        "xColumns": null,
        "yColumns": null
       },
       "removedWidgets": [],
       "schema": [
        {
         "metadata": "{}",
         "name": "path",
         "type": "\"string\""
        },
        {
         "metadata": "{}",
         "name": "name",
         "type": "\"string\""
        },
        {
         "metadata": "{}",
         "name": "size",
         "type": "\"long\""
        },
        {
         "metadata": "{}",
         "name": "modificationTime",
         "type": "\"long\""
        }
       ],
       "type": "table"
      }
     },
     "output_type": "display_data"
    }
   ],
   "source": [
    "%fs ls /mnt/lhdw/landingzone/vendas"
   ]
  },
  {
   "cell_type": "markdown",
   "metadata": {
    "application/vnd.databricks.v1+cell": {
     "cellMetadata": {
      "byteLimit": 2048000,
      "rowLimit": 10000
     },
     "inputWidgets": {},
     "nuid": "e0029409-c28f-4fef-8905-f3af62f85c5a",
     "showTitle": false,
     "tableResultSettingsMap": {},
     "title": ""
    }
   },
   "source": [
    "###Apagando diretórios\n",
    "Executar somente se necessário"
   ]
  },
  {
   "cell_type": "code",
   "execution_count": 0,
   "metadata": {
    "application/vnd.databricks.v1+cell": {
     "cellMetadata": {
      "byteLimit": 2048000,
      "rowLimit": 10000
     },
     "inputWidgets": {},
     "nuid": "2d53f47d-e642-46c5-a3dd-f80c888ddc62",
     "showTitle": false,
     "tableResultSettingsMap": {},
     "title": ""
    }
   },
   "outputs": [],
   "source": [
    "#dbutils.fs.rm(\"dbfs:/mnt/lhdw\", recurse=True)\n",
    "#dbutils.fs.rm(\"dbfs:/mnt/lhdw/landingzone\", recurse=True)\n",
    "#dbutils.fs.rm(\"dbfs:/mnt/lhdw/bronze\", recurse=True)\n",
    "#dbutils.fs.rm(\"dbfs:/mnt/lhdw/silver\", recurse=True)\n",
    "#dbutils.fs.rm(\"dbfs:/mnt/lhdw/gold\", recurse=True)\n"
   ]
  }
 ],
 "metadata": {
  "application/vnd.databricks.v1+notebook": {
   "computePreferences": null,
   "dashboards": [],
   "environmentMetadata": null,
   "inputWidgetPreferences": null,
   "language": "python",
   "notebookMetadata": {
    "mostRecentlyExecutedCommandWithImplicitDF": {
     "commandId": 1487444852454200,
     "dataframes": [
      "_sqldf"
     ]
    },
    "pythonIndentUnit": 4
   },
   "notebookName": "000 Criando os Diretórios",
   "widgets": {}
  }
 },
 "nbformat": 4,
 "nbformat_minor": 0
}