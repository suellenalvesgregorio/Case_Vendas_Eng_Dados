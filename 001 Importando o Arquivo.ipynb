{
 "cells": [
  {
   "cell_type": "markdown",
   "metadata": {
    "application/vnd.databricks.v1+cell": {
     "cellMetadata": {
      "byteLimit": 2048000,
      "rowLimit": 10000
     },
     "inputWidgets": {},
     "nuid": "76f74ba6-f9ac-481d-bc38-697d5fe590c0",
     "showTitle": false,
     "tableResultSettingsMap": {},
     "title": ""
    }
   },
   "source": [
    "###Importar arquivo para DBFS Landingzone\n",
    "\n",
    "O arquivo importado contém uma base de dados referente às vendas realizadas em 2011 e posteriormente, deverá ser alterado manualmente para a importação do arquivo implemental com os dados de vendas do ano de 2012, como estou utilizando a versão community, não realizei a implementação de um workflow para executar automaticamente, então, quando chegar no notebook `005 Load Golf Delta Incremental`, será necessário voltar nesse notebook e realizar a alteração manualmente para extrair o arquivo dados_vendas_2012.csv. Esses arquivos estão no formato .csv e encontra-se armazenado no repositório do GitHub."
   ]
  },
  {
   "cell_type": "code",
   "execution_count": 0,
   "metadata": {
    "application/vnd.databricks.v1+cell": {
     "cellMetadata": {
      "byteLimit": 2048000,
      "rowLimit": 10000
     },
     "inputWidgets": {},
     "nuid": "91f04f85-1f1f-4204-b1f6-9180ed13cb6d",
     "showTitle": false,
     "tableResultSettingsMap": {},
     "title": ""
    }
   },
   "outputs": [
    {
     "output_type": "stream",
     "name": "stdout",
     "output_type": "stream",
     "text": [
      "Arquivo baixado e salvo em: /mnt/lhdw/landingzone/vendas/processar/dados_vendas_2011.csv\n"
     ]
    }
   ],
   "source": [
    "import urllib.request\n",
    "\n",
    "# URL do arquivo no GitHub\n",
    "url = 'https://raw.githubusercontent.com/suellenalvesgregorio/Case_Vendas_Eng_Dados/refs/heads/main/dados_vendas_2011.csv'\n",
    "\n",
    "# Caminho temporário na instância do cluster\n",
    "temp_path = '/tmp/dados_vendas_2011.csv'\n",
    "\n",
    "# Baixar o arquivo para o caminho temporário\n",
    "urllib.request.urlretrieve(url, temp_path)\n",
    "\n",
    "# Caminho de destino no DBFS\n",
    "dbfs_path = '/mnt/lhdw/landingzone/vendas/processar/dados_vendas_2011.csv'\n",
    "\n",
    "# Mover o arquivo para o DBFS\n",
    "dbutils.fs.cp(f'file:{temp_path}', f'dbfs:{dbfs_path}')\n",
    "\n",
    "print(f\"Arquivo baixado e salvo em: {dbfs_path}\")\n"
   ]
  },
  {
   "cell_type": "markdown",
   "metadata": {
    "application/vnd.databricks.v1+cell": {
     "cellMetadata": {
      "byteLimit": 2048000,
      "rowLimit": 10000
     },
     "inputWidgets": {},
     "nuid": "cf3fc368-a113-40be-8cc6-e924808a77fe",
     "showTitle": false,
     "tableResultSettingsMap": {},
     "title": ""
    }
   },
   "source": [
    "##Evidência do Arquivo criado"
   ]
  },
  {
   "cell_type": "code",
   "execution_count": 0,
   "metadata": {
    "application/vnd.databricks.v1+cell": {
     "cellMetadata": {
      "byteLimit": 2048000,
      "rowLimit": 10000
     },
     "inputWidgets": {},
     "nuid": "f5054c26-dbc4-4a1e-8d69-51321f1594ea",
     "showTitle": false,
     "tableResultSettingsMap": {},
     "title": ""
    }
   },
   "outputs": [
    {
     "output_type": "stream",
     "name": "stdout",
     "output_type": "stream",
     "text": [
      "Out[4]: [FileInfo(path='dbfs:/mnt/lhdw/landingzone/vendas/processar/dados_vendas_2011.csv', name='dados_vendas_2011.csv', size=21493733, modificationTime=1744738724000)]"
     ]
    }
   ],
   "source": [
    "dbutils.fs.ls(\"/mnt/lhdw/landingzone/vendas/processar/\")\n"
   ]
  },
  {
   "cell_type": "code",
   "execution_count": 0,
   "metadata": {
    "application/vnd.databricks.v1+cell": {
     "cellMetadata": {
      "byteLimit": 2048000,
      "rowLimit": 10000
     },
     "inputWidgets": {},
     "nuid": "95138e9b-e49d-42e3-ae63-1cb28528cf5e",
     "showTitle": false,
     "tableResultSettingsMap": {},
     "title": ""
    }
   },
   "outputs": [
    {
     "output_type": "display_data",
     "data": {
      "text/html": [
       "<style scoped>\n",
       "  .table-result-container {\n",
       "    max-height: 300px;\n",
       "    overflow: auto;\n",
       "  }\n",
       "  table, th, td {\n",
       "    border: 1px solid black;\n",
       "    border-collapse: collapse;\n",
       "  }\n",
       "  th, td {\n",
       "    padding: 5px;\n",
       "  }\n",
       "  th {\n",
       "    text-align: left;\n",
       "  }\n",
       "</style><div class='table-result-container'><table class='table-result'><thead style='background-color: white'><tr><th>path</th><th>name</th><th>size</th><th>modificationTime</th></tr></thead><tbody><tr><td>dbfs:/mnt/lhdw/landingzone/vendas/processar/dados_vendas_2011.csv</td><td>dados_vendas_2011.csv</td><td>21493733</td><td>1744738724000</td></tr></tbody></table></div>"
      ]
     },
     "metadata": {
      "application/vnd.databricks.v1+output": {
       "addedWidgets": {},
       "aggData": [],
       "aggError": "",
       "aggOverflow": false,
       "aggSchema": [],
       "aggSeriesLimitReached": false,
       "aggType": "",
       "arguments": {},
       "columnCustomDisplayInfos": {},
       "data": [
        [
         "dbfs:/mnt/lhdw/landingzone/vendas/processar/dados_vendas_2011.csv",
         "dados_vendas_2011.csv",
         21493733,
         1744738724000
        ]
       ],
       "datasetInfos": [],
       "dbfsResultPath": null,
       "isJsonSchema": true,
       "metadata": {
        "isDbfsCommandResult": false
       },
       "overflow": false,
       "plotOptions": {
        "customPlotOptions": {},
        "displayType": "table",
        "pivotAggregation": null,
        "pivotColumns": null,
        "xColumns": null,
        "yColumns": null
       },
       "removedWidgets": [],
       "schema": [
        {
         "metadata": "{}",
         "name": "path",
         "type": "\"string\""
        },
        {
         "metadata": "{}",
         "name": "name",
         "type": "\"string\""
        },
        {
         "metadata": "{}",
         "name": "size",
         "type": "\"long\""
        },
        {
         "metadata": "{}",
         "name": "modificationTime",
         "type": "\"long\""
        }
       ],
       "type": "table"
      }
     },
     "output_type": "display_data"
    }
   ],
   "source": [
    "%fs ls /mnt/lhdw/landingzone/vendas/processar/"
   ]
  }
 ],
 "metadata": {
  "application/vnd.databricks.v1+notebook": {
   "computePreferences": null,
   "dashboards": [],
   "environmentMetadata": null,
   "inputWidgetPreferences": null,
   "language": "python",
   "notebookMetadata": {
    "mostRecentlyExecutedCommandWithImplicitDF": {
     "commandId": 1487444852454212,
     "dataframes": [
      "_sqldf"
     ]
    },
    "pythonIndentUnit": 4
   },
   "notebookName": "001 Importando o Arquivo",
   "widgets": {}
  }
 },
 "nbformat": 4,
 "nbformat_minor": 0
}